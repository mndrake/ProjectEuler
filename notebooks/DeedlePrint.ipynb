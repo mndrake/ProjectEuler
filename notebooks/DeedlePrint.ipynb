{
 "metadata": {
  "language": "fsharp",
  "name": ""
 },
 "nbformat": 3,
 "nbformat_minor": 0,
 "worksheets": [
  {
   "cells": [
    {
     "cell_type": "code",
     "collapsed": false,
     "input": [
      "#N \"Deedle/1.0.0-alpha2/pre\"\n",
      "#N \"FSharp.Formatting\"\n",
      "#load \"DeedleFormatter.fs\""
     ],
     "language": "python",
     "metadata": {},
     "outputs": [
      {
       "metadata": {},
       "output_type": "pyout",
       "prompt_number": 2,
       "text": [
        "NuGet package: Deedle"
       ]
      },
      {
       "metadata": {},
       "output_type": "pyout",
       "prompt_number": 2,
       "text": [
        "Referenced: C:\\Github\\ProjectEuler\\notebooks\\packages\\Deedle.1.0.0-alpha2\\lib\\net40\\Deedle.dll"
       ]
      },
      {
       "metadata": {},
       "output_type": "pyout",
       "prompt_number": 2,
       "text": [
        "NuGet package: FSharp.Formatting"
       ]
      },
      {
       "metadata": {},
       "output_type": "pyout",
       "prompt_number": 2,
       "text": [
        "Referenced: C:\\Github\\ProjectEuler\\notebooks\\packages\\FSharp.Formatting.2.4.8\\lib\\net40\\CSharpFormat.dll"
       ]
      },
      {
       "metadata": {},
       "output_type": "pyout",
       "prompt_number": 2,
       "text": [
        "Referenced: C:\\Github\\ProjectEuler\\notebooks\\packages\\FSharp.Formatting.2.4.8\\lib\\net40\\FSharp.CodeFormat.dll"
       ]
      },
      {
       "metadata": {},
       "output_type": "pyout",
       "prompt_number": 2,
       "text": [
        "Referenced: C:\\Github\\ProjectEuler\\notebooks\\packages\\FSharp.Formatting.2.4.8\\lib\\net40\\FSharp.Literate.dll"
       ]
      },
      {
       "metadata": {},
       "output_type": "pyout",
       "prompt_number": 2,
       "text": [
        "Referenced: C:\\Github\\ProjectEuler\\notebooks\\packages\\FSharp.Formatting.2.4.8\\lib\\net40\\FSharp.Markdown.dll"
       ]
      },
      {
       "metadata": {},
       "output_type": "pyout",
       "prompt_number": 2,
       "text": [
        "Referenced: C:\\Github\\ProjectEuler\\notebooks\\packages\\FSharp.Formatting.2.4.8\\lib\\net40\\FSharp.MetadataFormat.dll"
       ]
      }
     ],
     "prompt_number": 2
    },
    {
     "cell_type": "code",
     "collapsed": false,
     "input": [
      "open Deedle\n",
      "\n",
      "series [ 1 => 2; 2 => 3 ]"
     ],
     "language": "python",
     "metadata": {},
     "outputs": [
      {
       "html": [
        "<div class=\"deedleseries\">\r\n",
        "\r\n",
        "<table>\r\n",
        "<thead>\r\n",
        "<tr class=\"header\">\r\n",
        "<th><p>Keys</p></th>\r\n",
        "<th><p>1</p></th>\r\n",
        "<th><p>2</p></th>\r\n",
        "</tr>\r\n",
        "</thead>\r\n",
        "<tbody>\r\n",
        "<tr class=\"odd\">\r\n",
        "<td><p>Values</p></td>\r\n",
        "<td><p>2</p></td>\r\n",
        "<td><p>3</p></td>\r\n",
        "</tr>\r\n",
        "</tbody>\r\n",
        "</table>\r\n",
        "\r\n",
        "\r\n",
        "</div>\r\n"
       ],
       "metadata": {},
       "output_type": "display_data"
      }
     ],
     "prompt_number": 3
    },
    {
     "cell_type": "code",
     "collapsed": false,
     "input": [
      "open Deedle\n",
      "\n",
      "frame [ \"Map\" => series [ 1 => 2; 2 => 3 ]]"
     ],
     "language": "python",
     "metadata": {},
     "outputs": [
      {
       "html": [
        "<div class=\"deedleframe\">\r\n",
        "\r\n",
        "<table>\r\n",
        "<thead>\r\n",
        "<tr class=\"header\">\r\n",
        "<th></th>\r\n",
        "<th><p>Map</p></th>\r\n",
        "</tr>\r\n",
        "</thead>\r\n",
        "<tbody>\r\n",
        "<tr class=\"odd\">\r\n",
        "<td><p>1</p></td>\r\n",
        "<td><p>2</p></td>\r\n",
        "</tr>\r\n",
        "<tr class=\"even\">\r\n",
        "<td><p>2</p></td>\r\n",
        "<td><p>3</p></td>\r\n",
        "</tr>\r\n",
        "</tbody>\r\n",
        "</table>\r\n",
        "\r\n",
        "\r\n",
        "</div>\r\n"
       ],
       "metadata": {},
       "output_type": "display_data"
      }
     ],
     "prompt_number": 4
    },
    {
     "cell_type": "code",
     "collapsed": false,
     "input": [
      "let a = frame [ \"Map\" => series [ 1 => 2; 2 => 3 ]]\n",
      "let b = 5\n",
      "b"
     ],
     "language": "python",
     "metadata": {},
     "outputs": [
      {
       "html": [
        "<div class=\"deedleframe\">\r\n",
        "\r\n",
        "<table>\r\n",
        "<thead>\r\n",
        "<tr class=\"header\">\r\n",
        "<th></th>\r\n",
        "<th><p>Map</p></th>\r\n",
        "</tr>\r\n",
        "</thead>\r\n",
        "<tbody>\r\n",
        "<tr class=\"odd\">\r\n",
        "<td><p>1</p></td>\r\n",
        "<td><p>2</p></td>\r\n",
        "</tr>\r\n",
        "<tr class=\"even\">\r\n",
        "<td><p>2</p></td>\r\n",
        "<td><p>3</p></td>\r\n",
        "</tr>\r\n",
        "</tbody>\r\n",
        "</table>\r\n",
        "\r\n",
        "\r\n",
        "</div>\r\n"
       ],
       "metadata": {},
       "output_type": "display_data"
      },
      {
       "html": [
        "5"
       ],
       "metadata": {},
       "output_type": "display_data"
      },
      {
       "html": [
        "5"
       ],
       "metadata": {},
       "output_type": "display_data"
      }
     ],
     "prompt_number": 5
    }
   ],
   "metadata": {}
  }
 ]
}
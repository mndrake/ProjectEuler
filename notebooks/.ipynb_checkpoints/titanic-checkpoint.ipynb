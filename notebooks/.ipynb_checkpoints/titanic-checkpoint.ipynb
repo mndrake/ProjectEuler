{
 "metadata": {
  "language": "fsharp",
  "name": ""
 },
 "nbformat": 3,
 "nbformat_minor": 0,
 "worksheets": [
  {
   "cells": [
    {
     "cell_type": "code",
     "collapsed": false,
     "input": [
      "// open needed namespaces\n",
      "open Deedle\n",
      "open RDotNet\n",
      "open RProvider\n",
      "open RProvider.``base``\n",
      "open RProvider.Amelia\n",
      "open RProvider.caret\n",
      "open RProvider.datasets\n",
      "open RProvider.graphics\n",
      "open RProvider.neuralnet"
     ],
     "language": "python",
     "metadata": {},
     "outputs": [],
     "prompt_number": 1
    },
    {
     "cell_type": "code",
     "collapsed": false,
     "input": [
      "/// helper function to evaluate a string in R\n",
      "let eval (text:string) = R.eval(R.parse(namedParams [\"text\", text ]))"
     ],
     "language": "python",
     "metadata": {},
     "outputs": [],
     "prompt_number": 2
    },
    {
     "cell_type": "code",
     "collapsed": false,
     "input": [
      "// load data\n",
      "let rawdata = Frame.ReadCsv(__SOURCE_DIRECTORY__ + \"/txt/train.csv\")\n",
      "let test = Frame.ReadCsv(__SOURCE_DIRECTORY__ + \"/txt/test.csv\")"
     ],
     "language": "python",
     "metadata": {},
     "outputs": [],
     "prompt_number": 3
    },
    {
     "cell_type": "code",
     "collapsed": false,
     "input": [
      "let print = fun (printer:Deedle.Internal.IFsiFormattable) -> \"\\n\" + (printer.Format())\n",
      "\n",
      "R.getwd().Print()"
     ],
     "language": "python",
     "metadata": {},
     "outputs": [
      {
       "metadata": {},
       "output_type": "pyout",
       "prompt_number": 4,
       "text": [
        "val it : string = \"[1] \"C:/Github/ProjectEuler/notebooks\"\r\n",
        "\""
       ]
      }
     ],
     "prompt_number": 4
    },
    {
     "cell_type": "code",
     "collapsed": false,
     "input": [
      "// visualize missing data\n",
      "\n",
      "// visualize missing data\n",
      "\n",
      "eval \"\"\"jpeg(\"titanic_missing.jpg\")\"\"\"\n",
      "R.par(namedParams [\"mfrow\", [1;2] ])\n",
      "R.missmap(rawdata, main = \"train\")\n",
      "R.missmap(test, main = \"test\")\n",
      "eval \"dev.off()\"\n",
      "\n",
      "//Util.Html(\"<p>hello</p>\") |> Display\n",
      "//Util.Image \"titanic_missing.jpg\" |> Display\n",
      "//Util(\"file:///C:/Github/ProjectEuler/notebooks/titanic_missing.jpg\") |> Display\n",
      "//Util.Image \"titanic_missing.jpg\" |> Display"
     ],
     "language": "python",
     "metadata": {},
     "outputs": [
      {
       "metadata": {},
       "output_type": "pyout",
       "prompt_number": 5,
       "text": [
        "val it : SymbolicExpression"
       ]
      }
     ],
     "prompt_number": 5
    },
    {
     "cell_type": "markdown",
     "metadata": {},
     "source": [
      "<img src=\"file:///C:/Github/ProjectEuler/notebookstitanic_missing.png\" alt=\"some_text\">"
     ]
    },
    {
     "cell_type": "markdown",
     "metadata": {},
     "source": [
      "![Alt text](titanic_missing.jpg)"
     ]
    },
    {
     "cell_type": "code",
     "collapsed": false,
     "input": [],
     "language": "python",
     "metadata": {},
     "outputs": []
    }
   ],
   "metadata": {}
  }
 ]
}
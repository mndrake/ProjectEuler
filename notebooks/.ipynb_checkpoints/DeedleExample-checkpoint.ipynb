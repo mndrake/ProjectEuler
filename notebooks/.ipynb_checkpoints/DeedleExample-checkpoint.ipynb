{
 "metadata": {
  "language": "fsharp",
  "name": ""
 },
 "nbformat": 3,
 "nbformat_minor": 0,
 "worksheets": [
  {
   "cells": [
    {
     "cell_type": "code",
     "collapsed": false,
     "input": [
      "#N \"Deedle/1.0.0-alpha2/pre\"\n"
     ],
     "language": "python",
     "metadata": {},
     "outputs": [
      {
       "metadata": {},
       "output_type": "pyout",
       "prompt_number": 8,
       "text": [
        "NuGet package: FSharp.Data"
       ]
      },
      {
       "metadata": {},
       "output_type": "pyout",
       "prompt_number": 8,
       "text": [
        "Referenced: C:\\Github\\ProjectEuler\\notebooks\\packages\\FSharp.Data.2.0.7\\lib\\net40\\FSharp.Data.DesignTime.dll"
       ]
      },
      {
       "metadata": {},
       "output_type": "pyout",
       "prompt_number": 8,
       "text": [
        "Referenced: C:\\Github\\ProjectEuler\\notebooks\\packages\\FSharp.Data.2.0.7\\lib\\net40\\FSharp.Data.dll"
       ]
      },
      {
       "metadata": {},
       "output_type": "pyout",
       "prompt_number": 8,
       "text": [
        "NuGet package: Deedle"
       ]
      },
      {
       "metadata": {},
       "output_type": "pyout",
       "prompt_number": 8,
       "text": [
        "Referenced: C:\\Github\\ProjectEuler\\notebooks\\packages\\Deedle.1.0.0-alpha2\\lib\\net40\\Deedle.dll"
       ]
      },
      {
       "metadata": {},
       "output_type": "pyout",
       "prompt_number": 8,
       "text": [
        "NuGet package: FSharp.Formatting"
       ]
      },
      {
       "metadata": {},
       "output_type": "pyout",
       "prompt_number": 8,
       "text": [
        "Referenced: C:\\Github\\ProjectEuler\\notebooks\\packages\\FSharp.Formatting.2.4.8\\lib\\net40\\CSharpFormat.dll"
       ]
      },
      {
       "metadata": {},
       "output_type": "pyout",
       "prompt_number": 8,
       "text": [
        "Referenced: C:\\Github\\ProjectEuler\\notebooks\\packages\\FSharp.Formatting.2.4.8\\lib\\net40\\FSharp.CodeFormat.dll"
       ]
      },
      {
       "metadata": {},
       "output_type": "pyout",
       "prompt_number": 8,
       "text": [
        "Referenced: C:\\Github\\ProjectEuler\\notebooks\\packages\\FSharp.Formatting.2.4.8\\lib\\net40\\FSharp.Literate.dll"
       ]
      },
      {
       "metadata": {},
       "output_type": "pyout",
       "prompt_number": 8,
       "text": [
        "Referenced: C:\\Github\\ProjectEuler\\notebooks\\packages\\FSharp.Formatting.2.4.8\\lib\\net40\\FSharp.Markdown.dll"
       ]
      },
      {
       "metadata": {},
       "output_type": "pyout",
       "prompt_number": 8,
       "text": [
        "Referenced: C:\\Github\\ProjectEuler\\notebooks\\packages\\FSharp.Formatting.2.4.8\\lib\\net40\\FSharp.MetadataFormat.dll"
       ]
      }
     ],
     "prompt_number": 8
    },
    {
     "cell_type": "code",
     "collapsed": false,
     "input": [
      "open Deedle\n",
      "\n",
      "let frame = Frame.ofRowKeys([1 .. 10])\n",
      "frame?Squares <- frame.RowKeys |> Seq.map (fun k -> k*k)"
     ],
     "language": "python",
     "metadata": {},
     "outputs": [
      {
       "html": [
        "<div class=\"deedleframe\">\r\n",
        "\r\n",
        "<table>\r\n",
        "<thead>\r\n",
        "<tr class=\"header\">\r\n",
        "<th></th>\r\n",
        "<th><p>Squares</p></th>\r\n",
        "</tr>\r\n",
        "</thead>\r\n",
        "<tbody>\r\n",
        "<tr class=\"odd\">\r\n",
        "<td><p>1</p></td>\r\n",
        "<td><p>1</p></td>\r\n",
        "</tr>\r\n",
        "<tr class=\"even\">\r\n",
        "<td><p>2</p></td>\r\n",
        "<td><p>4</p></td>\r\n",
        "</tr>\r\n",
        "<tr class=\"odd\">\r\n",
        "<td><p>3</p></td>\r\n",
        "<td><p>9</p></td>\r\n",
        "</tr>\r\n",
        "<tr class=\"even\">\r\n",
        "<td><p>4</p></td>\r\n",
        "<td><p>16</p></td>\r\n",
        "</tr>\r\n",
        "<tr class=\"odd\">\r\n",
        "<td><p>5</p></td>\r\n",
        "<td><p>25</p></td>\r\n",
        "</tr>\r\n",
        "<tr class=\"even\">\r\n",
        "<td><p>6</p></td>\r\n",
        "<td><p>36</p></td>\r\n",
        "</tr>\r\n",
        "<tr class=\"odd\">\r\n",
        "<td><p>7</p></td>\r\n",
        "<td><p>49</p></td>\r\n",
        "</tr>\r\n",
        "<tr class=\"even\">\r\n",
        "<td><p>8</p></td>\r\n",
        "<td><p>64</p></td>\r\n",
        "</tr>\r\n",
        "<tr class=\"odd\">\r\n",
        "<td><p>9</p></td>\r\n",
        "<td><p>81</p></td>\r\n",
        "</tr>\r\n",
        "<tr class=\"even\">\r\n",
        "<td><p>10</p></td>\r\n",
        "<td><p>100</p></td>\r\n",
        "</tr>\r\n",
        "</tbody>\r\n",
        "</table>\r\n",
        "\r\n",
        "\r\n",
        "</div>\r\n"
       ],
       "metadata": {},
       "output_type": "display_data"
      }
     ],
     "prompt_number": 1
    },
    {
     "cell_type": "code",
     "collapsed": false,
     "input": [
      "let squares = frame?Squares"
     ],
     "language": "python",
     "metadata": {},
     "outputs": [],
     "prompt_number": 2
    },
    {
     "cell_type": "code",
     "collapsed": false,
     "input": [
      "frame"
     ],
     "language": "python",
     "metadata": {},
     "outputs": [
      {
       "html": [
        "<div class=\"deedleframe\">\r\n",
        "\r\n",
        "<table>\r\n",
        "<thead>\r\n",
        "<tr class=\"header\">\r\n",
        "<th></th>\r\n",
        "<th><p>Squares</p></th>\r\n",
        "</tr>\r\n",
        "</thead>\r\n",
        "<tbody>\r\n",
        "<tr class=\"odd\">\r\n",
        "<td><p>1</p></td>\r\n",
        "<td><p>1</p></td>\r\n",
        "</tr>\r\n",
        "<tr class=\"even\">\r\n",
        "<td><p>2</p></td>\r\n",
        "<td><p>4</p></td>\r\n",
        "</tr>\r\n",
        "<tr class=\"odd\">\r\n",
        "<td><p>3</p></td>\r\n",
        "<td><p>9</p></td>\r\n",
        "</tr>\r\n",
        "<tr class=\"even\">\r\n",
        "<td><p>4</p></td>\r\n",
        "<td><p>16</p></td>\r\n",
        "</tr>\r\n",
        "<tr class=\"odd\">\r\n",
        "<td><p>5</p></td>\r\n",
        "<td><p>25</p></td>\r\n",
        "</tr>\r\n",
        "<tr class=\"even\">\r\n",
        "<td><p>6</p></td>\r\n",
        "<td><p>36</p></td>\r\n",
        "</tr>\r\n",
        "<tr class=\"odd\">\r\n",
        "<td><p>7</p></td>\r\n",
        "<td><p>49</p></td>\r\n",
        "</tr>\r\n",
        "<tr class=\"even\">\r\n",
        "<td><p>8</p></td>\r\n",
        "<td><p>64</p></td>\r\n",
        "</tr>\r\n",
        "<tr class=\"odd\">\r\n",
        "<td><p>9</p></td>\r\n",
        "<td><p>81</p></td>\r\n",
        "</tr>\r\n",
        "<tr class=\"even\">\r\n",
        "<td><p>10</p></td>\r\n",
        "<td><p>100</p></td>\r\n",
        "</tr>\r\n",
        "</tbody>\r\n",
        "</table>\r\n",
        "\r\n",
        "\r\n",
        "</div>\r\n"
       ],
       "metadata": {},
       "output_type": "display_data"
      }
     ],
     "prompt_number": 3
    },
    {
     "cell_type": "code",
     "collapsed": false,
     "input": [
      "squares"
     ],
     "language": "python",
     "metadata": {},
     "outputs": [
      {
       "metadata": {},
       "output_type": "pyout",
       "prompt_number": 4,
       "text": [
        "val it : Series<int,float> =\r\n",
        "  series [ 1 => 1; 2 => 4; 3 => 9; 4 => 16; 5 => 25;  ... ; 10 => 100]\r\n",
        "    {Index = Deedle.Indices.Linear.LinearIndex`1[System.Int32];\r\n",
        "     IsEmpty = false;\r\n",
        "     IsOrdered = true;\r\n",
        "     Item = ?;\r\n",
        "     Item = ?;\r\n",
        "     Item = ?;\r\n",
        "     KeyCount = 10;\r\n",
        "     KeyRange = (1, 10);\r\n",
        "     Keys = seq [1; 2; 3; 4; ...];\r\n",
        "     Observations = seq [[1, 1]; [2, 4]; [3, 9]; [4, 16]; ...];\r\n",
        "     ObservationsAll = seq [[1, 1]; [2, 4]; [3, 9]; [4, 16]; ...];\r\n",
        "     Reversed = series [ 10 => 100; 9 => 81; 8 => 64; 7 => 49; 6 => 36;  ... ; 1 => 1];\r\n",
        "     ValueCount = 10;\r\n",
        "     Values = seq [1.0; 4.0; 9.0; 16.0; ...];\r\n",
        "     ValuesAll = seq [1.0; 4.0; 9.0; 16.0; ...];\r\n",
        "     Vector = dense [ 1; 4; 9; 16; 25; 36; 49; 64; 81; 100; ];}"
       ]
      }
     ],
     "prompt_number": 4
    },
    {
     "cell_type": "code",
     "collapsed": false,
     "input": [
      "frame |> Display"
     ],
     "language": "python",
     "metadata": {},
     "outputs": [
      {
       "metadata": {},
       "output_type": "display_data",
       "text": [
        "Deedle.Frame`2[System.Int32,System.String]"
       ]
      }
     ],
     "prompt_number": 5
    },
    {
     "cell_type": "code",
     "collapsed": false,
     "input": [
      "squares |> Display"
     ],
     "language": "python",
     "metadata": {},
     "outputs": [
      {
       "metadata": {},
       "output_type": "display_data",
       "text": [
        "series [ 1 => 1; 2 => 4; 3 => 9; 4 => 16; 5 => 25;  ... ; 10 => 100]"
       ]
      }
     ],
     "prompt_number": 6
    },
    {
     "cell_type": "code",
     "collapsed": false,
     "input": [],
     "language": "python",
     "metadata": {},
     "outputs": []
    }
   ],
   "metadata": {}
  }
 ]
}
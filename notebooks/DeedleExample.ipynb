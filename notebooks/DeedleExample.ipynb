{
 "metadata": {
  "language": "fsharp",
  "name": ""
 },
 "nbformat": 3,
 "nbformat_minor": 0,
 "worksheets": [
  {
   "cells": [
    {
     "cell_type": "code",
     "collapsed": false,
     "input": [
      "open Deedle\n",
      "\n",
      "let frame = Frame.ofRowKeys([1 .. 10])\n",
      "frame?Squares <- frame.RowKeys |> Seq.map (fun k -> k*k)"
     ],
     "language": "python",
     "metadata": {},
     "outputs": [
      {
       "metadata": {},
       "output_type": "pyout",
       "prompt_number": 1,
       "text": [
        "val it : unit = ()"
       ]
      }
     ],
     "prompt_number": 1
    },
    {
     "cell_type": "code",
     "collapsed": false,
     "input": [
      "frame?Squares |> Util.Deedle |> Display"
     ],
     "language": "python",
     "metadata": {},
     "outputs": [
      {
       "html": [
        "<div class=\"deedleseries\">\r\n",
        "\r\n",
        "<table>\r\n",
        "<thead>\r\n",
        "<tr class=\"header\">\r\n",
        "<th><p>Keys</p></th>\r\n",
        "<th><p>1</p></th>\r\n",
        "<th><p>2</p></th>\r\n",
        "<th><p>3</p></th>\r\n",
        "<th><p>4</p></th>\r\n",
        "<th><p>5</p></th>\r\n",
        "<th><p> ... </p></th>\r\n",
        "<th><p>8</p></th>\r\n",
        "<th><p>9</p></th>\r\n",
        "<th><p>10</p></th>\r\n",
        "</tr>\r\n",
        "</thead>\r\n",
        "<tbody>\r\n",
        "<tr class=\"odd\">\r\n",
        "<td><p>Values</p></td>\r\n",
        "<td><p>1</p></td>\r\n",
        "<td><p>4</p></td>\r\n",
        "<td><p>9</p></td>\r\n",
        "<td><p>16</p></td>\r\n",
        "<td><p>25</p></td>\r\n",
        "<td><p> ... </p></td>\r\n",
        "<td><p>64</p></td>\r\n",
        "<td><p>81</p></td>\r\n",
        "<td><p>100</p></td>\r\n",
        "</tr>\r\n",
        "</tbody>\r\n",
        "</table>\r\n",
        "\r\n",
        "\r\n",
        "</div>\r\n"
       ],
       "metadata": {},
       "output_type": "display_data"
      }
     ],
     "prompt_number": 2
    },
    {
     "cell_type": "code",
     "collapsed": false,
     "input": [
      "frame |> Util.Deedle |> Display"
     ],
     "language": "python",
     "metadata": {},
     "outputs": [
      {
       "html": [
        "<div class=\"deedleframe\">\r\n",
        "\r\n",
        "<table>\r\n",
        "<thead>\r\n",
        "<tr class=\"header\">\r\n",
        "<th></th>\r\n",
        "<th><p>Squares</p></th>\r\n",
        "</tr>\r\n",
        "</thead>\r\n",
        "<tbody>\r\n",
        "<tr class=\"odd\">\r\n",
        "<td><p>1</p></td>\r\n",
        "<td><p>1</p></td>\r\n",
        "</tr>\r\n",
        "<tr class=\"even\">\r\n",
        "<td><p>2</p></td>\r\n",
        "<td><p>4</p></td>\r\n",
        "</tr>\r\n",
        "<tr class=\"odd\">\r\n",
        "<td><p>3</p></td>\r\n",
        "<td><p>9</p></td>\r\n",
        "</tr>\r\n",
        "<tr class=\"even\">\r\n",
        "<td><p>4</p></td>\r\n",
        "<td><p>16</p></td>\r\n",
        "</tr>\r\n",
        "<tr class=\"odd\">\r\n",
        "<td><p>5</p></td>\r\n",
        "<td><p>25</p></td>\r\n",
        "</tr>\r\n",
        "<tr class=\"even\">\r\n",
        "<td><p>6</p></td>\r\n",
        "<td><p>36</p></td>\r\n",
        "</tr>\r\n",
        "<tr class=\"odd\">\r\n",
        "<td><p>7</p></td>\r\n",
        "<td><p>49</p></td>\r\n",
        "</tr>\r\n",
        "<tr class=\"even\">\r\n",
        "<td><p>8</p></td>\r\n",
        "<td><p>64</p></td>\r\n",
        "</tr>\r\n",
        "<tr class=\"odd\">\r\n",
        "<td><p>9</p></td>\r\n",
        "<td><p>81</p></td>\r\n",
        "</tr>\r\n",
        "<tr class=\"even\">\r\n",
        "<td><p>10</p></td>\r\n",
        "<td><p>100</p></td>\r\n",
        "</tr>\r\n",
        "</tbody>\r\n",
        "</table>\r\n",
        "\r\n",
        "\r\n",
        "</div>\r\n"
       ],
       "metadata": {},
       "output_type": "display_data"
      }
     ],
     "prompt_number": 3
    }
   ],
   "metadata": {}
  }
 ]
}